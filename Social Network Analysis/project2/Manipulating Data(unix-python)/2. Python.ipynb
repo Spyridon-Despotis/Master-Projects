{
 "cells": [
  {
   "cell_type": "markdown",
   "id": "b5b8f6fc-6a01-44f3-aaba-d01c81b18c7e",
   "metadata": {},
   "source": [
    "<a class=\"anchor\" id=\"welcome\"></a> \n",
    ">\n",
    ">\n",
    "> </b>\n",
    "<b> <span style=\"font-size: 200%\"> <span style='font-family:Helvetica'>From raw data to temporal graph structure exploration</b> \n",
    "</b>\n",
    "> <img src=\"https://camo.githubusercontent.com/c057c000cf6245439acbfd9a5b2a5d4b72ae0b4cad78c3788e04c6193b1900ed/68747470733a2f2f7468756d62732e6766796361742e636f6d2f486f727269626c65446172696e67416e656d6f6e652d736d616c6c2e676966\" alt=\"Drawing\"  style=\"width: 850px;\"/>\n",
    "<br />\n",
    "><br />\n",
    "><br />\n",
    "> <br />\n",
    "><br />\n",
    "><b> \n",
    "> <span style='font-family:Verdana '> Msc in Business Analytics @ AEUB  <br />\n",
    ">  <span style='font-family:Verdana '> Course: Social Network Analysis  <br />\n",
    ">  <span style='font-family:Verdana '> Instructor: Katia Papakonstantinopoulou <br />\n",
    ">  <span style='font-family:Verdana '> Student: Despotis Spyridon  <br />\n",
    ">  <span style='font-family:Verdana '> Student ID: P2822111 <br />\n",
    "***"
   ]
  },
  {
   "cell_type": "code",
   "execution_count": 5,
   "id": "3d42842e-78db-48ee-afb3-6931b3484d57",
   "metadata": {},
   "outputs": [],
   "source": [
    "import pandas as pd\n",
    "import networkx as nx\n",
    "import matplotlib.pyplot as plt"
   ]
  },
  {
   "cell_type": "markdown",
   "id": "2feaf88f",
   "metadata": {},
   "source": [
    "### Reading the dataset"
   ]
  },
  {
   "cell_type": "code",
   "execution_count": 6,
   "id": "fddd081c",
   "metadata": {},
   "outputs": [],
   "source": [
    "data1 = pd.read_csv(\"2016.csv\")\n",
    "data2 = pd.read_csv(\"2017.csv\")\n",
    "data3 = pd.read_csv(\"2018.csv\")\n",
    "data4 = pd.read_csv(\"2019.csv\")\n",
    "data5 = pd.read_csv(\"2020.csv\")"
   ]
  },
  {
   "cell_type": "markdown",
   "id": "16e6eaea",
   "metadata": {},
   "source": [
    "### Displaying head information of all datasets"
   ]
  },
  {
   "cell_type": "code",
   "execution_count": 7,
   "id": "09e64ae4",
   "metadata": {},
   "outputs": [
    {
     "data": {
      "text/html": [
       "<div>\n",
       "<style scoped>\n",
       "    .dataframe tbody tr th:only-of-type {\n",
       "        vertical-align: middle;\n",
       "    }\n",
       "\n",
       "    .dataframe tbody tr th {\n",
       "        vertical-align: top;\n",
       "    }\n",
       "\n",
       "    .dataframe thead th {\n",
       "        text-align: right;\n",
       "    }\n",
       "</style>\n",
       "<table border=\"1\" class=\"dataframe\">\n",
       "  <thead>\n",
       "    <tr style=\"text-align: right;\">\n",
       "      <th></th>\n",
       "      <th>Unnamed: 0</th>\n",
       "      <th>Year</th>\n",
       "      <th>Title</th>\n",
       "      <th>confrence</th>\n",
       "      <th>Authors</th>\n",
       "    </tr>\n",
       "  </thead>\n",
       "  <tbody>\n",
       "    <tr>\n",
       "      <th>0</th>\n",
       "      <td>0</td>\n",
       "      <td>2016</td>\n",
       "      <td>Separating-Plane Factorization Models: Scalabl...</td>\n",
       "      <td>CIKM</td>\n",
       "      <td>Haolan Chen,Di Niu,Kunfeng Lai,Yu Xu,Masoud Ar...</td>\n",
       "    </tr>\n",
       "    <tr>\n",
       "      <th>1</th>\n",
       "      <td>1</td>\n",
       "      <td>2016</td>\n",
       "      <td>Joint Collaborative Ranking with Social Relati...</td>\n",
       "      <td>CIKM</td>\n",
       "      <td>Dimitrios Rafailidis,Fabio Crestani</td>\n",
       "    </tr>\n",
       "    <tr>\n",
       "      <th>2</th>\n",
       "      <td>2</td>\n",
       "      <td>2016</td>\n",
       "      <td>Probabilistic Approaches to Controversy Detect...</td>\n",
       "      <td>CIKM</td>\n",
       "      <td>Myungha Jang,John Foley,Shiri Dori-Hacohen,Jam...</td>\n",
       "    </tr>\n",
       "  </tbody>\n",
       "</table>\n",
       "</div>"
      ],
      "text/plain": [
       "   Unnamed: 0  Year                                              Title  \\\n",
       "0           0  2016  Separating-Plane Factorization Models: Scalabl...   \n",
       "1           1  2016  Joint Collaborative Ranking with Social Relati...   \n",
       "2           2  2016  Probabilistic Approaches to Controversy Detect...   \n",
       "\n",
       "  confrence                                            Authors  \n",
       "0      CIKM  Haolan Chen,Di Niu,Kunfeng Lai,Yu Xu,Masoud Ar...  \n",
       "1      CIKM                Dimitrios Rafailidis,Fabio Crestani  \n",
       "2      CIKM  Myungha Jang,John Foley,Shiri Dori-Hacohen,Jam...  "
      ]
     },
     "execution_count": 7,
     "metadata": {},
     "output_type": "execute_result"
    }
   ],
   "source": [
    "data1.head(3)"
   ]
  },
  {
   "cell_type": "code",
   "execution_count": 8,
   "id": "110bd3ee",
   "metadata": {},
   "outputs": [
    {
     "data": {
      "text/html": [
       "<div>\n",
       "<style scoped>\n",
       "    .dataframe tbody tr th:only-of-type {\n",
       "        vertical-align: middle;\n",
       "    }\n",
       "\n",
       "    .dataframe tbody tr th {\n",
       "        vertical-align: top;\n",
       "    }\n",
       "\n",
       "    .dataframe thead th {\n",
       "        text-align: right;\n",
       "    }\n",
       "</style>\n",
       "<table border=\"1\" class=\"dataframe\">\n",
       "  <thead>\n",
       "    <tr style=\"text-align: right;\">\n",
       "      <th></th>\n",
       "      <th>Unnamed: 0</th>\n",
       "      <th>Year</th>\n",
       "      <th>Title</th>\n",
       "      <th>confrence</th>\n",
       "      <th>Authors</th>\n",
       "    </tr>\n",
       "  </thead>\n",
       "  <tbody>\n",
       "    <tr>\n",
       "      <th>0</th>\n",
       "      <td>0</td>\n",
       "      <td>2017</td>\n",
       "      <td>Public Transportation Mode Detection from Cell...</td>\n",
       "      <td>CIKM</td>\n",
       "      <td>Guanyao Li,Chun-Jie Chen,Sheng-Yun Huang,Ai-Jo...</td>\n",
       "    </tr>\n",
       "    <tr>\n",
       "      <th>1</th>\n",
       "      <td>1</td>\n",
       "      <td>2017</td>\n",
       "      <td>A Temporal Attentional Model for Rumor Stance ...</td>\n",
       "      <td>CIKM</td>\n",
       "      <td>Amir Pouran Ben Veyseh,Javid Ebrahimi,Dejing D...</td>\n",
       "    </tr>\n",
       "    <tr>\n",
       "      <th>2</th>\n",
       "      <td>2</td>\n",
       "      <td>2017</td>\n",
       "      <td>BoostVHT: Boosting Distributed Streaming Decis...</td>\n",
       "      <td>CIKM</td>\n",
       "      <td>Theodore Vasiloudis,Foteini Beligianni,Gianmar...</td>\n",
       "    </tr>\n",
       "  </tbody>\n",
       "</table>\n",
       "</div>"
      ],
      "text/plain": [
       "   Unnamed: 0  Year                                              Title  \\\n",
       "0           0  2017  Public Transportation Mode Detection from Cell...   \n",
       "1           1  2017  A Temporal Attentional Model for Rumor Stance ...   \n",
       "2           2  2017  BoostVHT: Boosting Distributed Streaming Decis...   \n",
       "\n",
       "  confrence                                            Authors  \n",
       "0      CIKM  Guanyao Li,Chun-Jie Chen,Sheng-Yun Huang,Ai-Jo...  \n",
       "1      CIKM  Amir Pouran Ben Veyseh,Javid Ebrahimi,Dejing D...  \n",
       "2      CIKM  Theodore Vasiloudis,Foteini Beligianni,Gianmar...  "
      ]
     },
     "execution_count": 8,
     "metadata": {},
     "output_type": "execute_result"
    }
   ],
   "source": [
    "data2.head(3)"
   ]
  },
  {
   "cell_type": "code",
   "execution_count": 9,
   "id": "ce70cc69",
   "metadata": {},
   "outputs": [
    {
     "data": {
      "text/html": [
       "<div>\n",
       "<style scoped>\n",
       "    .dataframe tbody tr th:only-of-type {\n",
       "        vertical-align: middle;\n",
       "    }\n",
       "\n",
       "    .dataframe tbody tr th {\n",
       "        vertical-align: top;\n",
       "    }\n",
       "\n",
       "    .dataframe thead th {\n",
       "        text-align: right;\n",
       "    }\n",
       "</style>\n",
       "<table border=\"1\" class=\"dataframe\">\n",
       "  <thead>\n",
       "    <tr style=\"text-align: right;\">\n",
       "      <th></th>\n",
       "      <th>Unnamed: 0</th>\n",
       "      <th>Year</th>\n",
       "      <th>Title</th>\n",
       "      <th>confrence</th>\n",
       "      <th>Authors</th>\n",
       "    </tr>\n",
       "  </thead>\n",
       "  <tbody>\n",
       "    <tr>\n",
       "      <th>0</th>\n",
       "      <td>0</td>\n",
       "      <td>2018</td>\n",
       "      <td>Deep Semantic Hashing with Multi-Adversarial T...</td>\n",
       "      <td>CIKM</td>\n",
       "      <td>Bingning Wang,Kang Liu 0001,Jun Zhao 0001</td>\n",
       "    </tr>\n",
       "    <tr>\n",
       "      <th>1</th>\n",
       "      <td>1</td>\n",
       "      <td>2018</td>\n",
       "      <td>Ready for Use: Subject-Independent Movement In...</td>\n",
       "      <td>CIKM</td>\n",
       "      <td>Dalin Zhang,Lina Yao,Kaixuan Chen,Sen Wang 0001</td>\n",
       "    </tr>\n",
       "    <tr>\n",
       "      <th>2</th>\n",
       "      <td>2</td>\n",
       "      <td>2018</td>\n",
       "      <td>Rumor Detection with Hierarchical Social Atten...</td>\n",
       "      <td>CIKM</td>\n",
       "      <td>Han Guo,Juan Cao,Yazi Zhang,Junbo Guo,Jintao Li</td>\n",
       "    </tr>\n",
       "  </tbody>\n",
       "</table>\n",
       "</div>"
      ],
      "text/plain": [
       "   Unnamed: 0  Year                                              Title  \\\n",
       "0           0  2018  Deep Semantic Hashing with Multi-Adversarial T...   \n",
       "1           1  2018  Ready for Use: Subject-Independent Movement In...   \n",
       "2           2  2018  Rumor Detection with Hierarchical Social Atten...   \n",
       "\n",
       "  confrence                                          Authors  \n",
       "0      CIKM        Bingning Wang,Kang Liu 0001,Jun Zhao 0001  \n",
       "1      CIKM  Dalin Zhang,Lina Yao,Kaixuan Chen,Sen Wang 0001  \n",
       "2      CIKM  Han Guo,Juan Cao,Yazi Zhang,Junbo Guo,Jintao Li  "
      ]
     },
     "execution_count": 9,
     "metadata": {},
     "output_type": "execute_result"
    }
   ],
   "source": [
    "data3.head(3)"
   ]
  },
  {
   "cell_type": "code",
   "execution_count": 10,
   "id": "20d97c71",
   "metadata": {},
   "outputs": [
    {
     "data": {
      "text/html": [
       "<div>\n",
       "<style scoped>\n",
       "    .dataframe tbody tr th:only-of-type {\n",
       "        vertical-align: middle;\n",
       "    }\n",
       "\n",
       "    .dataframe tbody tr th {\n",
       "        vertical-align: top;\n",
       "    }\n",
       "\n",
       "    .dataframe thead th {\n",
       "        text-align: right;\n",
       "    }\n",
       "</style>\n",
       "<table border=\"1\" class=\"dataframe\">\n",
       "  <thead>\n",
       "    <tr style=\"text-align: right;\">\n",
       "      <th></th>\n",
       "      <th>Unnamed: 0</th>\n",
       "      <th>Year</th>\n",
       "      <th>Title</th>\n",
       "      <th>confrence</th>\n",
       "      <th>Authors</th>\n",
       "    </tr>\n",
       "  </thead>\n",
       "  <tbody>\n",
       "    <tr>\n",
       "      <th>0</th>\n",
       "      <td>0</td>\n",
       "      <td>2019</td>\n",
       "      <td>DSANet: Dual Self-Attention Network for Multiv...</td>\n",
       "      <td>CIKM</td>\n",
       "      <td>Siteng Huang,Donglin Wang,Xuehan Wu,Ao Tang</td>\n",
       "    </tr>\n",
       "    <tr>\n",
       "      <th>1</th>\n",
       "      <td>1</td>\n",
       "      <td>2019</td>\n",
       "      <td>Additive Explanations for Anomalies Detected f...</td>\n",
       "      <td>CIKM</td>\n",
       "      <td>Ioana Giurgiu,Anika Schumann</td>\n",
       "    </tr>\n",
       "    <tr>\n",
       "      <th>2</th>\n",
       "      <td>2</td>\n",
       "      <td>2019</td>\n",
       "      <td>Generative Question Refinement with Deep Reinf...</td>\n",
       "      <td>CIKM</td>\n",
       "      <td>Ye Liu 0006,Chenwei Zhang,Xiaohui Yan,Yi Chang...</td>\n",
       "    </tr>\n",
       "  </tbody>\n",
       "</table>\n",
       "</div>"
      ],
      "text/plain": [
       "   Unnamed: 0  Year                                              Title  \\\n",
       "0           0  2019  DSANet: Dual Self-Attention Network for Multiv...   \n",
       "1           1  2019  Additive Explanations for Anomalies Detected f...   \n",
       "2           2  2019  Generative Question Refinement with Deep Reinf...   \n",
       "\n",
       "  confrence                                            Authors  \n",
       "0      CIKM        Siteng Huang,Donglin Wang,Xuehan Wu,Ao Tang  \n",
       "1      CIKM                       Ioana Giurgiu,Anika Schumann  \n",
       "2      CIKM  Ye Liu 0006,Chenwei Zhang,Xiaohui Yan,Yi Chang...  "
      ]
     },
     "execution_count": 10,
     "metadata": {},
     "output_type": "execute_result"
    }
   ],
   "source": [
    "data4.head(3)"
   ]
  },
  {
   "cell_type": "code",
   "execution_count": 11,
   "id": "97f31e23",
   "metadata": {},
   "outputs": [
    {
     "data": {
      "text/html": [
       "<div>\n",
       "<style scoped>\n",
       "    .dataframe tbody tr th:only-of-type {\n",
       "        vertical-align: middle;\n",
       "    }\n",
       "\n",
       "    .dataframe tbody tr th {\n",
       "        vertical-align: top;\n",
       "    }\n",
       "\n",
       "    .dataframe thead th {\n",
       "        text-align: right;\n",
       "    }\n",
       "</style>\n",
       "<table border=\"1\" class=\"dataframe\">\n",
       "  <thead>\n",
       "    <tr style=\"text-align: right;\">\n",
       "      <th></th>\n",
       "      <th>Unnamed: 0</th>\n",
       "      <th>Year</th>\n",
       "      <th>Title</th>\n",
       "      <th>confrence</th>\n",
       "      <th>Authors</th>\n",
       "    </tr>\n",
       "  </thead>\n",
       "  <tbody>\n",
       "    <tr>\n",
       "      <th>0</th>\n",
       "      <td>0</td>\n",
       "      <td>2020</td>\n",
       "      <td>Multi-task Adversarial Spatial-Temporal Networ...</td>\n",
       "      <td>CIKM</td>\n",
       "      <td>Senzhang Wang,Hao Miao,Hao Chen,Zhiqiu Huang</td>\n",
       "    </tr>\n",
       "    <tr>\n",
       "      <th>1</th>\n",
       "      <td>1</td>\n",
       "      <td>2020</td>\n",
       "      <td>A Framework for Analyzing the Impact of Missin...</td>\n",
       "      <td>CIKM</td>\n",
       "      <td>Fabiola Santore,Eduardo Cunha de Almeida,Wagne...</td>\n",
       "    </tr>\n",
       "    <tr>\n",
       "      <th>2</th>\n",
       "      <td>2</td>\n",
       "      <td>2020</td>\n",
       "      <td>Auxiliary-task Based Deep Reinforcement Learni...</td>\n",
       "      <td>CIKM</td>\n",
       "      <td>Wei Shen 0005,Xiaonan He,Chuheng Zhang,Qiang N...</td>\n",
       "    </tr>\n",
       "  </tbody>\n",
       "</table>\n",
       "</div>"
      ],
      "text/plain": [
       "   Unnamed: 0  Year                                              Title  \\\n",
       "0           0  2020  Multi-task Adversarial Spatial-Temporal Networ...   \n",
       "1           1  2020  A Framework for Analyzing the Impact of Missin...   \n",
       "2           2  2020  Auxiliary-task Based Deep Reinforcement Learni...   \n",
       "\n",
       "  confrence                                            Authors  \n",
       "0      CIKM       Senzhang Wang,Hao Miao,Hao Chen,Zhiqiu Huang  \n",
       "1      CIKM  Fabiola Santore,Eduardo Cunha de Almeida,Wagne...  \n",
       "2      CIKM  Wei Shen 0005,Xiaonan He,Chuheng Zhang,Qiang N...  "
      ]
     },
     "execution_count": 11,
     "metadata": {},
     "output_type": "execute_result"
    }
   ],
   "source": [
    "data5.head(3)"
   ]
  },
  {
   "cell_type": "markdown",
   "id": "78e5d25f",
   "metadata": {},
   "source": [
    "### Filtering the dataset which are not related to the 5 confernces \n",
    "\n",
    "- looking for other conference if available other then the asked 1"
   ]
  },
  {
   "cell_type": "code",
   "execution_count": 12,
   "id": "70524ff2",
   "metadata": {},
   "outputs": [],
   "source": [
    "rq = ['WWW', 'KDD', 'ICWSM', 'IEEE BigData', 'CIKM'] #list of acceptable conferences "
   ]
  },
  {
   "cell_type": "code",
   "execution_count": 13,
   "id": "50001da4",
   "metadata": {},
   "outputs": [
    {
     "name": "stdout",
     "output_type": "stream",
     "text": [
      "{'KDD', 'WWW', 'ICWSM', 'CIKM', 'IEEE BigData'}\n",
      "{'KDD', 'WWW', 'ICWSM', 'CIKM', 'IEEE BigData'}\n",
      "{'KDD', ' Values', 'WWW', 'ICWSM', 'CIKM', 'IEEE BigData'}\n",
      "{'KDD', ' Temporal and Image Signals to Understand Popularity of Pinterest Fashion Boards.\"', 'WWW', 'ICWSM', 'CIKM', 'IEEE BigData'}\n",
      "{'KDD', ' I Have a Ph.D.\": A Propensity Score Analysis on the Halo Effect of Disclosing One\\'s Offline Social Status in Online Communities.\"', 'WWW', 'ICWSM', ' Lazy\" - MetaLazy: A New MetaStrategy for Lazy Text Classification.\"', 'CIKM', ' More Repetitive', ' Data', 'IEEE BigData'}\n"
     ]
    }
   ],
   "source": [
    "## checking if any dataset has other conference or not \n",
    "print(set(data1.confrence)) # no other conferences\n",
    "print(set(data2.confrence)) # no other conferences\n",
    "print(set(data3.confrence)) # other conferences. (values) we need to remove rows with this conference name\n",
    "print(set(data4.confrence)) # other conference (Temporral and image ... )\n",
    "print(set(data5.confrence)) # other conferences"
   ]
  },
  {
   "cell_type": "code",
   "execution_count": 14,
   "id": "ba992d29",
   "metadata": {},
   "outputs": [],
   "source": [
    "## Here is function which will check if any dataset has other conference values and retrun those which\n",
    "## are note required\n",
    "def get_nrq(data):\n",
    "    ls = []\n",
    "    for val in set(data.confrence):\n",
    "        if(val not in rq):\n",
    "            ls.append(val)\n",
    "    return ls  "
   ]
  },
  {
   "cell_type": "markdown",
   "id": "a8bc7999",
   "metadata": {},
   "source": [
    "#### Removing unwanted values from data3 "
   ]
  },
  {
   "cell_type": "code",
   "execution_count": 15,
   "id": "d234a447",
   "metadata": {},
   "outputs": [],
   "source": [
    "ls = get_nrq(data3)\n",
    "for v in ls:\n",
    "    data3 = data3[data3[\"confrence\"] != v ]"
   ]
  },
  {
   "cell_type": "code",
   "execution_count": 16,
   "id": "efda784c",
   "metadata": {},
   "outputs": [
    {
     "data": {
      "text/plain": [
       "{'CIKM', 'ICWSM', 'IEEE BigData', 'KDD', 'WWW'}"
      ]
     },
     "execution_count": 16,
     "metadata": {},
     "output_type": "execute_result"
    }
   ],
   "source": [
    "set(data3.confrence) ## we now have only required conference values"
   ]
  },
  {
   "cell_type": "code",
   "execution_count": 17,
   "id": "20217dd2",
   "metadata": {},
   "outputs": [],
   "source": [
    "data3=data3.reset_index(drop=True)"
   ]
  },
  {
   "cell_type": "markdown",
   "id": "8342adfb",
   "metadata": {},
   "source": [
    "#### Removing unwanted values from data4"
   ]
  },
  {
   "cell_type": "code",
   "execution_count": 18,
   "id": "32b11933",
   "metadata": {},
   "outputs": [],
   "source": [
    "ls = get_nrq(data4)\n",
    "for v in ls:\n",
    "    data4 = data4[data4[\"confrence\"] != v ]"
   ]
  },
  {
   "cell_type": "code",
   "execution_count": 19,
   "id": "94115b66",
   "metadata": {},
   "outputs": [
    {
     "data": {
      "text/plain": [
       "{'CIKM', 'ICWSM', 'IEEE BigData', 'KDD', 'WWW'}"
      ]
     },
     "execution_count": 19,
     "metadata": {},
     "output_type": "execute_result"
    }
   ],
   "source": [
    "set(data4.confrence) ## we now have only required conference values"
   ]
  },
  {
   "cell_type": "code",
   "execution_count": 20,
   "id": "0bcefa46",
   "metadata": {},
   "outputs": [],
   "source": [
    "data4=data4.reset_index(drop=True)"
   ]
  },
  {
   "cell_type": "markdown",
   "id": "bae359cc",
   "metadata": {},
   "source": [
    "#### Removing unwanted values from data5"
   ]
  },
  {
   "cell_type": "code",
   "execution_count": 21,
   "id": "c2e1e25a",
   "metadata": {},
   "outputs": [],
   "source": [
    "ls = get_nrq(data5)\n",
    "for v in ls:\n",
    "    data5 = data5[data5[\"confrence\"] != v ]"
   ]
  },
  {
   "cell_type": "code",
   "execution_count": 22,
   "id": "aecccb39",
   "metadata": {},
   "outputs": [
    {
     "data": {
      "text/plain": [
       "{'CIKM', 'ICWSM', 'IEEE BigData', 'KDD', 'WWW'}"
      ]
     },
     "execution_count": 22,
     "metadata": {},
     "output_type": "execute_result"
    }
   ],
   "source": [
    "set(data5.confrence) ## we now have only required conference values"
   ]
  },
  {
   "cell_type": "code",
   "execution_count": 23,
   "id": "01c85729",
   "metadata": {},
   "outputs": [],
   "source": [
    "data5=data5.reset_index(drop=True)"
   ]
  },
  {
   "cell_type": "markdown",
   "id": "771d1ec1",
   "metadata": {},
   "source": [
    "### Making Graphs from the dataset"
   ]
  },
  {
   "cell_type": "code",
   "execution_count": 24,
   "id": "fc96e436",
   "metadata": {},
   "outputs": [],
   "source": [
    "import itertools\n",
    "def make_graph(data): # making function to create graph from the datasets\n",
    "    G = nx.Graph()  # initialization of graph object\n",
    "    for i in range(0,len(data)): # itration over each dataset row to find out author relationships\n",
    "        ls = str(data.Authors[i]).split(',')  #spliting the authors features to different author names\n",
    "        ## edges\n",
    "        edges=itertools.combinations(ls, 2) # creating links between each author in a particular row\n",
    "        for edge in edges:\n",
    "            if(G.has_edge(edge[0],edge[1])): # checking if edge is already exist between two nodes \n",
    "                newweigh = G.get_edge_data(edge[0],edge[1])[\"weight\"]+1 # if exists we then add weights to the edge\n",
    "                G.remove_edge(edge[0],edge[1])\n",
    "                G.add_edge(edge[0],edge[1], weight = newweigh) ## adding weights here\n",
    "            else:\n",
    "                G.add_edge(edge[0],edge[1],weight=1)  ## if edge not exists then we create new edge between two nodes\n",
    "    return G"
   ]
  },
  {
   "cell_type": "code",
   "execution_count": 25,
   "id": "dc14523a",
   "metadata": {},
   "outputs": [],
   "source": [
    "## here we are passing the data of each year to make graph function which\n",
    "## will return a graph of particular dataset as return data. \n",
    "G2016 = make_graph(data1)\n",
    "G2017 = make_graph(data2)\n",
    "G2018 = make_graph(data3)\n",
    "G2019 = make_graph(data4)\n",
    "G2020 = make_graph(data5)"
   ]
  },
  {
   "cell_type": "markdown",
   "id": "4960df78",
   "metadata": {},
   "source": [
    "### Graph informations of each dataset\n",
    "\n",
    "- number of nodes \n",
    "- number of edges"
   ]
  },
  {
   "cell_type": "code",
   "execution_count": 26,
   "id": "a09b31b8",
   "metadata": {},
   "outputs": [
    {
     "name": "stdout",
     "output_type": "stream",
     "text": [
      "G 2016:  Graph with 4150 nodes and 9666 edges\n",
      "G 2017:  Graph with 4815 nodes and 10908 edges\n",
      "G 2018:  Graph with 5414 nodes and 12622 edges\n",
      "G 2019:  Graph with 6899 nodes and 18071 edges\n",
      "G 2020:  Graph with 7125 nodes and 18966 edges\n"
     ]
    },
    {
     "name": "stderr",
     "output_type": "stream",
     "text": [
      "C:\\Users\\Spyros Despotis\\AppData\\Local\\Temp\\ipykernel_22388\\1018473541.py:2: DeprecationWarning: info is deprecated and will be removed in version 3.0.\n",
      "\n",
      "  print(name, nx.info(G))\n"
     ]
    }
   ],
   "source": [
    "def graph_info(name,G):\n",
    "    print(name, nx.info(G))\n",
    "\n",
    "graph_info(\"G 2016: \", G2016)\n",
    "graph_info(\"G 2017: \",G2017)\n",
    "graph_info(\"G 2018: \",G2018)\n",
    "graph_info(\"G 2019: \",G2019)\n",
    "graph_info(\"G 2020: \",G2020)"
   ]
  },
  {
   "cell_type": "markdown",
   "id": "8a0151be",
   "metadata": {},
   "source": [
    "### writing edgelist as csv"
   ]
  },
  {
   "cell_type": "code",
   "execution_count": 25,
   "id": "6a91361e",
   "metadata": {},
   "outputs": [],
   "source": [
    "def write_csv(G,name):\n",
    "    df = nx.to_pandas_edgelist(G)\n",
    "    df.to_csv(name, index=False)\n",
    "   "
   ]
  },
  {
   "cell_type": "code",
   "execution_count": 26,
   "id": "1e3e039e",
   "metadata": {},
   "outputs": [],
   "source": [
    "write_csv(G2016,\"2016.csv\")\n",
    "write_csv(G2017,\"2017.csv\")\n",
    "write_csv(G2018,\"2018.csv\")\n",
    "write_csv(G2019,\"2019.csv\")\n",
    "write_csv(G2020,\"2020.csv\")"
   ]
  },
  {
   "cell_type": "code",
   "execution_count": null,
   "id": "ec54529a",
   "metadata": {},
   "outputs": [],
   "source": []
  }
 ],
 "metadata": {
  "kernelspec": {
   "display_name": "Python 3 (ipykernel)",
   "language": "python",
   "name": "python3"
  },
  "language_info": {
   "codemirror_mode": {
    "name": "ipython",
    "version": 3
   },
   "file_extension": ".py",
   "mimetype": "text/x-python",
   "name": "python",
   "nbconvert_exporter": "python",
   "pygments_lexer": "ipython3",
   "version": "3.8.11"
  }
 },
 "nbformat": 4,
 "nbformat_minor": 5
}
