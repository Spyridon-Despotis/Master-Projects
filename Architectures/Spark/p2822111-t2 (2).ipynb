{
 "cells": [
  {
   "cell_type": "markdown",
   "id": "94f73ead-2bd4-40e4-97bd-1d5773a9014e",
   "metadata": {},
   "source": [
    "> <a class=\"anchor\" id=\"welcome\"></a> \n",
    " <img src=\"https://i.ibb.co/84K2kmv/task2.png\" alt=\"Drawing\"  style=\"width: 600px;\"/><br />\n",
    "> <b> <span style=\"font-size: 400%\"> <span style='font-family:Helvetica'> Bookstore Dataset</b>\n",
    ">  <br />\n",
    "> <img src=\"https://cdn.dribbble.com/users/500242/screenshots/1755185/swed-dribbble.gif\" alt=\"Drawing\" style=\"width: 396px;\"/> <br />\n",
    "> <br />\n",
    "> <span style='font-family:Verdana '> Msc in Business Analytics @ AEUB  <br />\n",
    ">  <span style='font-family:Verdana '> Big Data Systems and Architectures - PT  <br />\n",
    ">  <span style='font-family:Verdana '> Professor: Thanasis Vergoulis <br />\n",
    ">  <span style='font-family:Verdana '> Student: Despotis Spyridon  <br />\n",
    ">  <span style='font-family:Verdana '> Student ID: P2822111 <br />\n",
    "\n",
    "***"
   ]
  },
  {
   "cell_type": "markdown",
   "id": "527ecccc-6d1a-43e5-9cce-7b1d34005ad1",
   "metadata": {},
   "source": [
    "> <img src=\"https://i.ibb.co/0rTP5XM/table-of-contents.png\" alt=\"Drawing\" style=\"width: 480px;\"/> <br />\n",
    "> * [Task1](#question1) <br />\n",
    "> * [Task2](#question2) <br />\n",
    "> * [Task3](#question3) <br />\n",
    "***"
   ]
  },
  {
   "cell_type": "markdown",
   "id": "55e70cb9-aa0b-448f-8127-4732411dc14b",
   "metadata": {},
   "source": [
    "> <b> <span style=\"font-size: 200%\"> <span style='font-family:Helvetica'>  We begin with importing the required packages</b>"
   ]
  },
  {
   "cell_type": "code",
   "execution_count": 55,
   "id": "67ba85aa-8ff9-4480-bc04-5b1123afe321",
   "metadata": {},
   "outputs": [],
   "source": [
    "import pyspark\n",
    "from pyspark import SparkContext, SparkConf\n",
    "from pyspark.sql import SparkSession\n",
    "from pyspark.sql.functions import *\n",
    "spark = SparkSession.builder.appName(\"task2\").getOrCreate()\n",
    "books = spark.read.json(\"books_5000.json\")"
   ]
  },
  {
   "cell_type": "markdown",
   "id": "bda00a20-a133-470a-90fd-032dcfbceca0",
   "metadata": {},
   "source": [
    "<a class=\"anchor\" id=\"question1\"></a> \n",
    "</b>\n",
    "<b> <span style=\"font-size: 200%\"> <span style='font-family:Helvetica'>Task 1</b> \n",
    "</b>"
   ]
  },
  {
   "cell_type": "markdown",
   "id": "0f01070b-7a27-4c5d-8bc0-9463d3101d1c",
   "metadata": {},
   "source": [
    "* It returns the “book_id” and “title” of the book with the largest “average_rating” that its title starts with the first letter of my last name. \n",
    "* We select the 'book_id','title','average_rating' columns\n",
    "* In 'title' column we look for the identical match of the name letter (D)\n",
    "* We collect the identical titles into groups by using groupby function\n",
    "* We add columns with aggregations, \"first\" and we also put allias the correct names\n",
    "* Finally we arrange them in descending order and wedisplay (limit) the first row only"
   ]
  },
  {
   "cell_type": "code",
   "execution_count": 56,
   "id": "1589448c-9382-4b11-a9eb-72b1d175d4bb",
   "metadata": {},
   "outputs": [
    {
     "name": "stdout",
     "output_type": "stream",
     "text": [
      "+--------+--------------+--------------------+\n",
      "| book_id|average_rating|               title|\n",
      "+--------+--------------+--------------------+\n",
      "|26025238|          5.00|Dungeon Fun (Dung...|\n",
      "+--------+--------------+--------------------+\n",
      "\n"
     ]
    }
   ],
   "source": [
    "query1 = (books.select(\"book_id\", \"title\", \"average_rating\") \n",
    "          .where(col('title').like(\"D%\"))\n",
    "          .groupby(\"book_id\")\n",
    "          .agg(first(\"average_rating\").alias(\"average_rating\"),first(\"title\").alias(\"title\"))\n",
    "          .orderBy('average_rating', ascending=False)\n",
    "          .limit(1))\n",
    "query1.show()"
   ]
  },
  {
   "cell_type": "markdown",
   "id": "1f5246b7-f0ba-4264-b627-b99f3f90e939",
   "metadata": {},
   "source": [
    "<a class=\"anchor\" id=\"question2\"></a> \n",
    "</b>\n",
    "<b> <span style=\"font-size: 200%\"> <span style='font-family:Helvetica'>Task 2</b> \n",
    "</b>"
   ]
  },
  {
   "cell_type": "markdown",
   "id": "26d11c3a-09a7-45fd-8190-b5ce4d51d8ce",
   "metadata": {},
   "source": [
    "* It returns the average “average_rating” of the books that their title starts with the second letter of my last name. \n",
    "* We select the 'book_id','title','average_rating' columns\n",
    "* In 'title' column we look for the identical match of the E letter\n",
    "* We collect the identical titles into groups by using groupby function in book_id column\n",
    "* Then we aggregate the average rating for all books that we grouped"
   ]
  },
  {
   "cell_type": "code",
   "execution_count": 60,
   "id": "3a92c201-4ca1-41a9-a175-fc8e26a0b170",
   "metadata": {},
   "outputs": [
    {
     "name": "stdout",
     "output_type": "stream",
     "text": [
      "+------------------+\n",
      "|        avg_rating|\n",
      "+------------------+\n",
      "|3.9165289256198355|\n",
      "+------------------+\n",
      "\n"
     ]
    }
   ],
   "source": [
    "query_grouped = (books.select(\"book_id\", \"title\", \"average_rating\")\n",
    "          .where(col('title').like(\"E%\"))\n",
    "          .groupby(\"book_id\")\n",
    "          .agg(first(\"title\").alias(\"title\"),first(\"average_rating\").alias(\"average_rating\")))\n",
    "from pyspark.sql import functions as F\n",
    "averaeg = query_grouped.agg(F.avg(F.col('average_rating')).alias('avg_rating'))\n",
    "averaeg.show()"
   ]
  },
  {
   "cell_type": "code",
   "execution_count": 61,
   "id": "50b1faa9-1a4e-4604-bff4-dda8eb638cf2",
   "metadata": {},
   "outputs": [
    {
     "name": "stdout",
     "output_type": "stream",
     "text": [
      "+-------+-------------------+\n",
      "|summary|     average_rating|\n",
      "+-------+-------------------+\n",
      "|  count|                121|\n",
      "|   mean| 3.9165289256198355|\n",
      "| stddev|0.37410050063185263|\n",
      "|    min|               2.92|\n",
      "|    max|               4.83|\n",
      "+-------+-------------------+\n",
      "\n"
     ]
    }
   ],
   "source": [
    "# Alternative method\n",
    "query_grouped.describe(\"average_rating\").show()"
   ]
  },
  {
   "cell_type": "markdown",
   "id": "bfabf384-eb53-4eb9-a10a-b75c9d563502",
   "metadata": {},
   "source": [
    "<a class=\"anchor\" id=\"question3\"></a> \n",
    "</b>\n",
    "<b> <span style=\"font-size: 200%\"> <span style='font-family:Helvetica'>Task 3</b> \n",
    "</b>"
   ]
  },
  {
   "cell_type": "markdown",
   "id": "fdca9f9d-dffd-45eb-b043-5f107ff2e087",
   "metadata": {},
   "source": [
    "* It returns the “book_id” and “title” of the Paperback book with the most pages, when only books with title starting with the *third* letter of your last name are considered. \n",
    "* Firstly it converts the num_page column to integer in order to be sorted later\n",
    "* Then we select the 'book_id','title','num_pages' columns\n",
    "* In 'title' column we look for the identical match of the name letter S\n",
    "* We filter the e-books only\n",
    "* We collect the identical title into groups by using groupby function\n",
    "* We call 'num_pages' and titles to appear allong book id column\n",
    "* We arrange num pages in descending order and display only the 1st row"
   ]
  },
  {
   "cell_type": "code",
   "execution_count": 62,
   "id": "0f4106dc-1e7d-4836-948e-21c5bd8741c3",
   "metadata": {},
   "outputs": [
    {
     "name": "stdout",
     "output_type": "stream",
     "text": [
      "+--------+---------+--------------------+\n",
      "| book_id|num_pages|               title|\n",
      "+--------+---------+--------------------+\n",
      "|20176462|      784|Samurai Execution...|\n",
      "+--------+---------+--------------------+\n",
      "\n"
     ]
    }
   ],
   "source": [
    "books = books.withColumn(\"num_pages\", books[\"num_pages\"].cast('int'))\n",
    "query3 = (books.select(\"book_id\", \"title\", \"num_pages\")\n",
    "          .where(col('title').like(\"S%\"))\n",
    "          .filter(\"is_ebook == 'false'\")\n",
    "          .groupby(\"book_id\")\n",
    "          .agg(first(\"num_pages\").alias(\"num_pages\"),first(\"title\").alias(\"title\"))\n",
    "          .sort(\"num_pages\", ascending=False)\n",
    "          .limit(1)\n",
    "         )\n",
    "query3.show()"
   ]
  },
  {
   "cell_type": "markdown",
   "id": "c92041c5-5b59-41ef-9c46-01e3511b2171",
   "metadata": {},
   "source": [
    "***\n",
    "\n",
    "[Scroll To Top ^](#welcome) <img style=\"float: right;\" src=\"https://i.ibb.co/w7Lbd0X/2-AUEB-white-HR.jpg\"  alt=\"aueb\" width=\"550px\"/>"
   ]
  },
  {
   "cell_type": "code",
   "execution_count": null,
   "id": "49ae3902-2b40-4fdb-b595-b1a61f7324fd",
   "metadata": {},
   "outputs": [],
   "source": []
  }
 ],
 "metadata": {
  "kernelspec": {
   "display_name": "Python 3 (ipykernel)",
   "language": "python",
   "name": "python3"
  },
  "language_info": {
   "codemirror_mode": {
    "name": "ipython",
    "version": 3
   },
   "file_extension": ".py",
   "mimetype": "text/x-python",
   "name": "python",
   "nbconvert_exporter": "python",
   "pygments_lexer": "ipython3",
   "version": "3.9.10"
  }
 },
 "nbformat": 4,
 "nbformat_minor": 5
}
