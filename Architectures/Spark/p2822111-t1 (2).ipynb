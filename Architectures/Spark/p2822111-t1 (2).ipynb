{
 "cells": [
  {
   "cell_type": "markdown",
   "id": "e97a8629-4713-41c6-9189-f48a7c5cd064",
   "metadata": {},
   "source": [
    "> <a class=\"anchor\" id=\"welcome\"></a> \n",
    "<img src=\"https://i.ibb.co/KN1GFJ7/title.png\" alt=\"Drawing\"  style=\"width: 500px;\"/><br />\n",
    "> <b> <span style=\"font-size: 400%\"> <span style='font-family:Helvetica'> Bookstore Dataset</b>\n",
    ">  <br />\n",
    "> <img src=\"https://cdn.dribbble.com/users/1785433/screenshots/14967930/book_dribble.gif\" alt=\"Drawing\" style=\"width: 396px;\"/> <br />\n",
    "> <br />\n",
    "> <span style='font-family:Verdana '> Msc in Business Analytics @ AEUB  <br />\n",
    ">  <span style='font-family:Verdana '> Big Data Systems and Architectures - PT  <br />\n",
    ">  <span style='font-family:Verdana '> Professor: Thanasis Vergoulis <br />\n",
    ">  <span style='font-family:Verdana '> Student: Despotis Spyridon  <br />\n",
    ">  <span style='font-family:Verdana '> Student ID: P2822111 <br />\n",
    "\n",
    "***"
   ]
  },
  {
   "cell_type": "markdown",
   "id": "3a60ad7e-3247-43c8-b3c9-2d6e25117d8e",
   "metadata": {},
   "source": [
    "> <img src=\"https://i.ibb.co/0rTP5XM/table-of-contents.png\" alt=\"Drawing\" style=\"width: 480px;\"/> <br />\n",
    "> * [Task1](#question1) <br />\n",
    "> * [Task2](#question2) <br />\n",
    "> * [Task3](#question3) <br />\n",
    "> * [Task 4](#question4) <br />\n",
    "> * [Task 5](#question5) <br />\n",
    "***"
   ]
  },
  {
   "cell_type": "markdown",
   "id": "0d828c87-86a9-46b6-a263-cd7a326b5c5b",
   "metadata": {},
   "source": [
    "> <b> <span style=\"font-size: 200%\"> <span style='font-family:Helvetica'>  We begin with importing the required packages</b>"
   ]
  },
  {
   "cell_type": "code",
   "execution_count": 13,
   "id": "4d5f5b0d-352f-4c57-b1b4-9dc71083acbb",
   "metadata": {},
   "outputs": [],
   "source": [
    "from pyspark.sql import SparkSession \n",
    "spark = SparkSession.builder.appName(\"task1\").getOrCreate()"
   ]
  },
  {
   "cell_type": "markdown",
   "id": "c97eef1c-fefd-48cb-9d63-090860ab1999",
   "metadata": {},
   "source": [
    "<a class=\"anchor\" id=\"question1\"></a> \n",
    "</b>\n",
    "<b> <span style=\"font-size: 200%\"> <span style='font-family:Helvetica'>Task 1</b> \n",
    "</b>"
   ]
  },
  {
   "cell_type": "markdown",
   "id": "ad59d921-778d-4fb6-9f70-c43cd22c2122",
   "metadata": {},
   "source": [
    "* Reading the books_5000.json using spark json read function"
   ]
  },
  {
   "cell_type": "code",
   "execution_count": 14,
   "id": "93176ce0-dcb0-43fd-9316-9bd660275391",
   "metadata": {},
   "outputs": [],
   "source": [
    "# we append \".json\" after read function in order to read our json type file\n",
    "books = spark.read.json(\"books_5000.json\")"
   ]
  },
  {
   "cell_type": "markdown",
   "id": "f66cdae2-5c6b-4026-a1a9-ffa11d3893b7",
   "metadata": {},
   "source": [
    "* Showing the structre of json file"
   ]
  },
  {
   "cell_type": "code",
   "execution_count": 15,
   "id": "3e59a89e-c78d-4d4e-8b0d-67869a397866",
   "metadata": {},
   "outputs": [
    {
     "name": "stdout",
     "output_type": "stream",
     "text": [
      "root\n",
      " |-- asin: string (nullable = true)\n",
      " |-- authors: array (nullable = true)\n",
      " |    |-- element: struct (containsNull = true)\n",
      " |    |    |-- author_id: string (nullable = true)\n",
      " |    |    |-- role: string (nullable = true)\n",
      " |-- average_rating: string (nullable = true)\n",
      " |-- book_id: string (nullable = true)\n",
      " |-- country_code: string (nullable = true)\n",
      " |-- description: string (nullable = true)\n",
      " |-- edition_information: string (nullable = true)\n",
      " |-- format: string (nullable = true)\n",
      " |-- image_url: string (nullable = true)\n",
      " |-- is_ebook: string (nullable = true)\n",
      " |-- isbn: string (nullable = true)\n",
      " |-- isbn13: string (nullable = true)\n",
      " |-- kindle_asin: string (nullable = true)\n",
      " |-- language_code: string (nullable = true)\n",
      " |-- link: string (nullable = true)\n",
      " |-- num_pages: string (nullable = true)\n",
      " |-- popular_shelves: array (nullable = true)\n",
      " |    |-- element: struct (containsNull = true)\n",
      " |    |    |-- count: string (nullable = true)\n",
      " |    |    |-- name: string (nullable = true)\n",
      " |-- publication_day: string (nullable = true)\n",
      " |-- publication_month: string (nullable = true)\n",
      " |-- publication_year: string (nullable = true)\n",
      " |-- publisher: string (nullable = true)\n",
      " |-- ratings_count: string (nullable = true)\n",
      " |-- series: array (nullable = true)\n",
      " |    |-- element: string (containsNull = true)\n",
      " |-- similar_books: array (nullable = true)\n",
      " |    |-- element: string (containsNull = true)\n",
      " |-- text_reviews_count: string (nullable = true)\n",
      " |-- title: string (nullable = true)\n",
      " |-- title_without_series: string (nullable = true)\n",
      " |-- url: string (nullable = true)\n",
      " |-- work_id: string (nullable = true)\n",
      "\n"
     ]
    }
   ],
   "source": [
    "books.printSchema()"
   ]
  },
  {
   "cell_type": "markdown",
   "id": "999f51ce-1b4e-4ddb-8da6-0626ecf23914",
   "metadata": {},
   "source": [
    "<a class=\"anchor\" id=\"question2\"></a> \n",
    "</b>\n",
    "<b> <span style=\"font-size: 200%\"> <span style='font-family:Helvetica'>Task 2</b> \n",
    "</b>"
   ]
  },
  {
   "cell_type": "markdown",
   "id": "022f309d-bdb4-453d-8a33-9644f35ad58f",
   "metadata": {},
   "source": [
    "* It counts and displays the number of books in the database"
   ]
  },
  {
   "cell_type": "code",
   "execution_count": 16,
   "id": "6a573a44-f02b-4704-aa30-4ed51f352a07",
   "metadata": {},
   "outputs": [
    {
     "data": {
      "text/plain": [
       "4999"
      ]
     },
     "execution_count": 16,
     "metadata": {},
     "output_type": "execute_result"
    }
   ],
   "source": [
    "# Select the books column and count the number of books\n",
    "Number_of_books = books.select('book_id').count()\n",
    "Number_of_books"
   ]
  },
  {
   "cell_type": "markdown",
   "id": "424f9848-fbda-4803-bfec-d95fa9a25b5e",
   "metadata": {},
   "source": [
    "<a class=\"anchor\" id=\"question3\"></a> \n",
    "</b>\n",
    "<b> <span style=\"font-size: 200%\"> <span style='font-family:Helvetica'>Task 3</b> \n",
    "</b>"
   ]
  },
  {
   "cell_type": "markdown",
   "id": "9d256030-5721-4bda-b809-860960c5274d",
   "metadata": {},
   "source": [
    "* It counts and displays the number of e-books in the database (based on the “is_ebook”\n",
    "field)."
   ]
  },
  {
   "cell_type": "code",
   "execution_count": 17,
   "id": "3824a179-64a8-48f7-b8cc-1ecf9d6ab34c",
   "metadata": {},
   "outputs": [
    {
     "data": {
      "text/plain": [
       "749"
      ]
     },
     "execution_count": 17,
     "metadata": {},
     "output_type": "execute_result"
    }
   ],
   "source": [
    "# Filtering the 'is_book' column and counting the e-books\n",
    "Number_of_ebooks = books.filter(\"is_ebook == 'true'\").count()\n",
    "Number_of_ebooks"
   ]
  },
  {
   "cell_type": "markdown",
   "id": "d0011d29-c259-4bf4-8f3b-e4c6bb5d3924",
   "metadata": {},
   "source": [
    "<a class=\"anchor\" id=\"question4\"></a> \n",
    "</b>\n",
    "<b> <span style=\"font-size: 200%\"> <span style='font-family:Helvetica'>Task 4</b> \n",
    "</b>"
   ]
  },
  {
   "cell_type": "markdown",
   "id": "3f657089-bfcb-428c-b453-bf783c8f57db",
   "metadata": {},
   "source": [
    "*  It uses the summary() command to display basic statistics about the “average_rating”\n",
    "field."
   ]
  },
  {
   "cell_type": "code",
   "execution_count": 18,
   "id": "6569c6fe-1a9b-4511-adac-557ec82fd576",
   "metadata": {},
   "outputs": [
    {
     "name": "stdout",
     "output_type": "stream",
     "text": [
      "+-------+-------------------+\n",
      "|summary|     average_rating|\n",
      "+-------+-------------------+\n",
      "|  count|               4999|\n",
      "|   mean| 3.9112042408481678|\n",
      "| stddev|0.43444489528688784|\n",
      "|    min|               1.00|\n",
      "|    25%|               3.66|\n",
      "|    50%|               3.98|\n",
      "|    75%|               4.23|\n",
      "|    max|               5.00|\n",
      "+-------+-------------------+\n",
      "\n"
     ]
    }
   ],
   "source": [
    "# Summarizing the 'average_rating' column data\n",
    "avr_statistics = books.select(\"average_rating\").summary().show()\n",
    "avr_statistics"
   ]
  },
  {
   "cell_type": "markdown",
   "id": "2353519b-47d9-42f9-bcef-736664700acc",
   "metadata": {},
   "source": [
    "<a class=\"anchor\" id=\"question5\"></a> \n",
    "</b>\n",
    "<b> <span style=\"font-size: 200%\"> <span style='font-family:Helvetica'>Task 5</b> \n",
    "</b>"
   ]
  },
  {
   "cell_type": "markdown",
   "id": "28e28fdd-b58f-4e47-b606-39a2b0b7258a",
   "metadata": {},
   "source": [
    "* It uses the groupby() and count() commands to display all distinct values in the\n",
    "“format” field and their number of appearances "
   ]
  },
  {
   "cell_type": "code",
   "execution_count": 19,
   "id": "7e366e3d-bf4b-4564-abd2-2a95bc8c15f6",
   "metadata": {},
   "outputs": [
    {
     "name": "stdout",
     "output_type": "stream",
     "text": [
      "+--------------------+-----+\n",
      "|              format|count|\n",
      "+--------------------+-----+\n",
      "|Paperback comic book|    1|\n",
      "|           Paperback| 2629|\n",
      "|Bolsillo con sobr...|    2|\n",
      "|       Audible Audio|    1|\n",
      "|           paperback|    2|\n",
      "|     Library Binding|    2|\n",
      "|          Board book|   11|\n",
      "|     Klappenbroschur|    1|\n",
      "|                Nook|    1|\n",
      "|         Illustrated|    2|\n",
      "|     Unknown Binding|    7|\n",
      "|           Hardcover|  826|\n",
      "|               Issue|    1|\n",
      "|               Album|    2|\n",
      "|             Webtoon|    2|\n",
      "|                Book|    1|\n",
      "|     Paperback Manga|    2|\n",
      "|      Kindle Edition|   41|\n",
      "|              Comics|    2|\n",
      "|           hardcover|    1|\n",
      "+--------------------+-----+\n",
      "only showing top 20 rows\n",
      "\n"
     ]
    }
   ],
   "source": [
    "# Collecting the identical data into groups and displaying their count\n",
    "grouped_books = books.groupBy('format').count()\n",
    "grouped_books.show()\n"
   ]
  },
  {
   "cell_type": "markdown",
   "id": "8c08ba2a-7bb8-45de-92a9-84230f2ba41f",
   "metadata": {},
   "source": [
    "***\n",
    "\n",
    "[Scroll To Top ^](#welcome) <img style=\"float: right;\" src=\"https://i.ibb.co/w7Lbd0X/2-AUEB-white-HR.jpg\"  alt=\"aueb\" width=\"550px\"/>\n"
   ]
  },
  {
   "cell_type": "code",
   "execution_count": null,
   "id": "279d791a-2028-46a1-87b1-a18046144b43",
   "metadata": {},
   "outputs": [],
   "source": []
  }
 ],
 "metadata": {
  "kernelspec": {
   "display_name": "Python 3 (ipykernel)",
   "language": "python",
   "name": "python3"
  },
  "language_info": {
   "codemirror_mode": {
    "name": "ipython",
    "version": 3
   },
   "file_extension": ".py",
   "mimetype": "text/x-python",
   "name": "python",
   "nbconvert_exporter": "python",
   "pygments_lexer": "ipython3",
   "version": "3.9.10"
  }
 },
 "nbformat": 4,
 "nbformat_minor": 5
}
